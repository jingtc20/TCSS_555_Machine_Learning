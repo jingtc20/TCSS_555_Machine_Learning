{
  "nbformat": 4,
  "nbformat_minor": 0,
  "metadata": {
    "colab": {
      "name": "Perceptron.ipynb",
      "provenance": []
    },
    "kernelspec": {
      "name": "python3",
      "display_name": "Python 3"
    }
  },
  "cells": [
    {
      "cell_type": "code",
      "metadata": {
        "colab": {
          "base_uri": "https://localhost:8080/"
        },
        "id": "2OQ2NPK0eEdC",
        "outputId": "3540bd76-1d25-4867-baec-882dcb58f3d8"
      },
      "source": [
        "import numpy as np\n",
        "from sklearn.datasets import load_iris\n",
        "from sklearn.linear_model import Perceptron\n",
        "from sklearn.linear_model import LogisticRegression \n",
        "iris = load_iris()\n",
        "X = iris.data[:, (2, 3)] # petal length, petal width \n",
        "y = (iris.target == 0).astype(np.int) # Iris Setosa?\n",
        "\n",
        "#perceptron training\n",
        "per_clf = Perceptron(random_state=42) \n",
        "per_clf.fit(X, y)\n",
        "\n",
        "#logistic regression training\n",
        "log_reg = LogisticRegression()\n",
        "log_reg.fit(X, y)\n",
        "\n",
        "y_pred_per = per_clf.predict([[2, 0.5]]) \n",
        "y_pred_log = log_reg.predict([[2, 0.5]]) \n",
        "print(y_pred_per, y_pred_log)"
      ],
      "execution_count": 1,
      "outputs": [
        {
          "output_type": "stream",
          "text": [
            "[1] [1]\n"
          ],
          "name": "stdout"
        }
      ]
    }
  ]
}
{
 "cells": [
  {
   "cell_type": "markdown",
   "metadata": {
    "colab_type": "text",
    "id": "WKTI8va0YLxR"
   },
   "source": []
  },
  {
   "cell_type": "code",
   "execution_count": 8,
   "metadata": {
    "colab": {},
    "colab_type": "code",
    "id": "xge8SMlXYU3h"
   },
   "outputs": [],
   "source": [
    "#This imports all of the NumPy modules into the current namespace\n",
    "from numpy import *"
   ]
  },
  {
   "cell_type": "code",
   "execution_count": 9,
   "metadata": {
    "colab": {},
    "colab_type": "code",
    "id": "3tU5oo9rYhIr"
   },
   "outputs": [
    {
     "data": {
      "text/plain": [
       "array([[0.89176792, 0.05397881, 0.85567667, 0.69474031],\n",
       "       [0.95063622, 0.04869645, 0.15422801, 0.21874648],\n",
       "       [0.43995211, 0.26979871, 0.35257831, 0.25277497],\n",
       "       [0.21647454, 0.47221858, 0.28865197, 0.65430729]])"
      ]
     },
     "execution_count": 9,
     "metadata": {},
     "output_type": "execute_result"
    }
   ],
   "source": [
    "#This creates a random \"array\" of size 4x4;\n",
    "random.rand(4,4)"
   ]
  },
  {
   "cell_type": "code",
   "execution_count": 10,
   "metadata": {
    "colab": {},
    "colab_type": "code",
    "id": "xR96K9U5Ysks"
   },
   "outputs": [],
   "source": [
    "#convert an array to a matrix by calling the mat() function\n",
    "randMat = mat(random.rand(4,4))"
   ]
  },
  {
   "cell_type": "code",
   "execution_count": 11,
   "metadata": {
    "colab": {},
    "colab_type": "code",
    "id": "PIIjByPGabzz"
   },
   "outputs": [
    {
     "data": {
      "text/plain": [
       "matrix([[-3.85697575, -1.13204357,  1.06504471,  2.19705864],\n",
       "        [ 5.54346505,  1.33069414, -1.89259321, -1.42197885],\n",
       "        [-4.33364295, -2.2129421 ,  3.15798806,  1.1013173 ],\n",
       "        [ 3.0340885 ,  2.99081614, -2.07030905, -1.52178126]])"
      ]
     },
     "execution_count": 11,
     "metadata": {},
     "output_type": "execute_result"
    }
   ],
   "source": [
    "#The .I operator solves the inverse of a matrix\n",
    "invRandMat = randMat.I\n",
    "invRandMat"
   ]
  },
  {
   "cell_type": "code",
   "execution_count": 12,
   "metadata": {
    "colab": {},
    "colab_type": "code",
    "id": "v80YGKSmasKI"
   },
   "outputs": [
    {
     "data": {
      "text/plain": [
       "matrix([[ 1.00000000e+00,  8.34602014e-17,  2.86124785e-16,\n",
       "          1.90399535e-16],\n",
       "        [ 3.47894287e-16,  1.00000000e+00,  3.48646648e-16,\n",
       "          1.48386198e-16],\n",
       "        [ 5.99589561e-17,  2.24140823e-16,  1.00000000e+00,\n",
       "         -1.19833701e-16],\n",
       "        [ 4.38569933e-16, -1.30795173e-16,  7.81871951e-17,\n",
       "          1.00000000e+00]])"
      ]
     },
     "execution_count": 12,
     "metadata": {},
     "output_type": "execute_result"
    }
   ],
   "source": [
    "#You can also do matrix multiplication\n",
    "myIdent = randMat*invRandMat\n",
    "myIdent"
   ]
  },
  {
   "cell_type": "code",
   "execution_count": 13,
   "metadata": {
    "colab": {},
    "colab_type": "code",
    "id": "Dp5AeDnRbL7v"
   },
   "outputs": [
    {
     "data": {
      "text/plain": [
       "matrix([[-6.66133815e-16,  8.34602014e-17,  2.86124785e-16,\n",
       "          1.90399535e-16],\n",
       "        [ 3.47894287e-16, -2.22044605e-16,  3.48646648e-16,\n",
       "          1.48386198e-16],\n",
       "        [ 5.99589561e-17,  2.24140823e-16,  2.22044605e-16,\n",
       "         -1.19833701e-16],\n",
       "        [ 4.38569933e-16, -1.30795173e-16,  7.81871951e-17,\n",
       "          4.44089210e-16]])"
      ]
     },
     "execution_count": 13,
     "metadata": {},
     "output_type": "execute_result"
    }
   ],
   "source": [
    "#This gives you just the identity matrix, a 4x4 matrix where all elements are zero except\n",
    "#the diagonals, which are one. This isn’t exactly true. There are some very small elements left over in the array \n",
    "myIdent - eye(4)"
   ]
  },
  {
   "cell_type": "code",
   "execution_count": null,
   "metadata": {},
   "outputs": [],
   "source": []
  }
 ],
 "metadata": {
  "colab": {
   "collapsed_sections": [],
   "name": "pythonBasics.ipynb",
   "provenance": []
  },
  "kernelspec": {
   "display_name": "Python 3",
   "language": "python",
   "name": "python3"
  },
  "language_info": {
   "codemirror_mode": {
    "name": "ipython",
    "version": 3
   },
   "file_extension": ".py",
   "mimetype": "text/x-python",
   "name": "python",
   "nbconvert_exporter": "python",
   "pygments_lexer": "ipython3",
   "version": "3.7.4"
  }
 },
 "nbformat": 4,
 "nbformat_minor": 1
}
